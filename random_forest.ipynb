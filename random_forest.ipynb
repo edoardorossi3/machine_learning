{
 "cells": [
  {
   "cell_type": "code",
   "execution_count": 7,
   "id": "db399249-3d00-4981-9686-4dd7faa243fa",
   "metadata": {},
   "outputs": [],
   "source": [
    "from sklearn.ensemble import RandomForestClassifier\n",
    "import numpy as np"
   ]
  },
  {
   "cell_type": "code",
   "execution_count": 8,
   "id": "133217d8-21ba-4fb2-95d3-adddd06eca5a",
   "metadata": {},
   "outputs": [],
   "source": [
    "x=[[0,0],[1,1]]\n",
    "y=[0,1]\n",
    "clf=RandomForestClassifier(n_estimators=10)\n",
    "clf=clf.fit(x,y)"
   ]
  },
  {
   "cell_type": "code",
   "execution_count": 9,
   "id": "337c45eb-74da-421d-97d3-a8f4bf4de54e",
   "metadata": {},
   "outputs": [
    {
     "data": {
      "text/plain": [
       "RandomForestClassifier(n_estimators=10)"
      ]
     },
     "execution_count": 9,
     "metadata": {},
     "output_type": "execute_result"
    }
   ],
   "source": [
    "clf"
   ]
  },
  {
   "cell_type": "code",
   "execution_count": 10,
   "id": "db2760f4-42ab-418c-aaad-08d154fe985b",
   "metadata": {},
   "outputs": [
    {
     "data": {
      "text/plain": [
       "(10,)"
      ]
     },
     "execution_count": 10,
     "metadata": {},
     "output_type": "execute_result"
    }
   ],
   "source": [
    "np.shape(clf)"
   ]
  },
  {
   "cell_type": "code",
   "execution_count": 11,
   "id": "941d8aa8-0451-4d5c-b37c-782cec98d609",
   "metadata": {},
   "outputs": [
    {
     "data": {
      "text/plain": [
       "DecisionTreeClassifier(max_features='auto', random_state=742692500)"
      ]
     },
     "execution_count": 11,
     "metadata": {},
     "output_type": "execute_result"
    }
   ],
   "source": [
    "clf[1]"
   ]
  },
  {
   "cell_type": "code",
   "execution_count": null,
   "id": "452806a5-3852-445a-a90b-4214812c2379",
   "metadata": {},
   "outputs": [],
   "source": []
  }
 ],
 "metadata": {
  "kernelspec": {
   "display_name": "Python 3",
   "language": "python",
   "name": "python3"
  },
  "language_info": {
   "codemirror_mode": {
    "name": "ipython",
    "version": 3
   },
   "file_extension": ".py",
   "mimetype": "text/x-python",
   "name": "python",
   "nbconvert_exporter": "python",
   "pygments_lexer": "ipython3",
   "version": "3.8.10"
  }
 },
 "nbformat": 4,
 "nbformat_minor": 5
}
